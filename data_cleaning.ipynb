{
 "cells": [
  {
   "cell_type": "code",
   "execution_count": 2,
   "metadata": {},
   "outputs": [
    {
     "name": "stdout",
     "output_type": "stream",
     "text": [
      "         Date       Open       High        Low      Close  Adj Close  \\\n",
      "0  2023-09-14  56.099998  66.279999  55.540001  63.590000  63.590000   \n",
      "1  2023-09-15  68.629997  69.000000  60.750000  60.750000  60.750000   \n",
      "2  2023-09-18  57.950001  58.741001  55.020000  58.000000  58.000000   \n",
      "3  2023-09-19  56.250000  56.779999  53.880001  55.169998  55.169998   \n",
      "4  2023-09-20  55.169998  55.400002  51.520000  52.910000  52.910000   \n",
      "\n",
      "      Volume  \n",
      "0  130534500  \n",
      "1   74568900  \n",
      "2   34571900  \n",
      "3   18308600  \n",
      "4   16369500  \n"
     ]
    }
   ],
   "source": [
    "import pandas as pd\n",
    "\n",
    "filepath = \"data/ARM_stock_data.csv\"\n",
    "data = pd.read_csv(filepath)\n",
    "\n",
    "print(data.head())"
   ]
  },
  {
   "cell_type": "code",
   "execution_count": 3,
   "metadata": {},
   "outputs": [
    {
     "name": "stdout",
     "output_type": "stream",
     "text": [
      "Date         0\n",
      "Open         0\n",
      "High         0\n",
      "Low          0\n",
      "Close        0\n",
      "Adj Close    0\n",
      "Volume       0\n",
      "dtype: int64\n",
      "<class 'pandas.core.frame.DataFrame'>\n",
      "RangeIndex: 306 entries, 0 to 305\n",
      "Data columns (total 7 columns):\n",
      " #   Column     Non-Null Count  Dtype  \n",
      "---  ------     --------------  -----  \n",
      " 0   Date       306 non-null    object \n",
      " 1   Open       306 non-null    float64\n",
      " 2   High       306 non-null    float64\n",
      " 3   Low        306 non-null    float64\n",
      " 4   Close      306 non-null    float64\n",
      " 5   Adj Close  306 non-null    float64\n",
      " 6   Volume     306 non-null    int64  \n",
      "dtypes: float64(5), int64(1), object(1)\n",
      "memory usage: 16.9+ KB\n",
      "None\n"
     ]
    }
   ],
   "source": [
    "print(data.isnull().sum())\n",
    "\n",
    "data = data.dropna()\n",
    "\n",
    "print(data.info())"
   ]
  },
  {
   "cell_type": "code",
   "execution_count": 5,
   "metadata": {},
   "outputs": [
    {
     "name": "stdout",
     "output_type": "stream",
     "text": [
      "Cleaned data saved!\n"
     ]
    }
   ],
   "source": [
    "data['Date'] = pd.to_datetime(data['Date'])\n",
    "\n",
    "data = data.sort_values(by=\"Date\")\n",
    "\n",
    "data.to_csv(\"data/cleaned_ARM_stock_data.csv\", index=False)\n",
    "print(\"Cleaned data saved!\")"
   ]
  },
  {
   "cell_type": "code",
   "execution_count": 6,
   "metadata": {},
   "outputs": [
    {
     "name": "stdout",
     "output_type": "stream",
     "text": [
      "[63.59000015 60.75       58.         55.16999817 52.90999985 52.15999985\n",
      " 51.31999969 54.43999863 53.52000046 52.99000168]\n"
     ]
    }
   ],
   "source": [
    "prices = data['Close'].values\n",
    "print(prices[:10])"
   ]
  },
  {
   "cell_type": "code",
   "execution_count": null,
   "metadata": {},
   "outputs": [],
   "source": []
  }
 ],
 "metadata": {
  "kernelspec": {
   "display_name": "Python 3",
   "language": "python",
   "name": "python3"
  },
  "language_info": {
   "codemirror_mode": {
    "name": "ipython",
    "version": 3
   },
   "file_extension": ".py",
   "mimetype": "text/x-python",
   "name": "python",
   "nbconvert_exporter": "python",
   "pygments_lexer": "ipython3",
   "version": "3.11.9"
  }
 },
 "nbformat": 4,
 "nbformat_minor": 2
}
